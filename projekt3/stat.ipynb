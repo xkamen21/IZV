{
 "metadata": {
  "language_info": {
   "codemirror_mode": {
    "name": "ipython",
    "version": 3
   },
   "file_extension": ".py",
   "mimetype": "text/x-python",
   "name": "python",
   "nbconvert_exporter": "python",
   "pygments_lexer": "ipython3",
   "version": "3.8.3-final"
  },
  "orig_nbformat": 2,
  "kernelspec": {
   "name": "python38364bitbasecondab984c2bb426f4455960890bd31de81dd",
   "display_name": "Python 3.8.3 64-bit ('base': conda)",
   "language": "python"
  }
 },
 "nbformat": 4,
 "nbformat_minor": 2,
 "cells": [
  {
   "cell_type": "code",
   "execution_count": 6,
   "metadata": {},
   "outputs": [],
   "source": [
    "from scipy.stats import chi2_contingency\n",
    "from scipy.stats import chi2\n",
    "import pandas as pd"
   ]
  },
  {
   "source": [
    "### Příprava\n",
    "Upravíme si náš DataFrame tak, abychom měli námi požadované hodnoty naší hypotézy."
   ],
   "cell_type": "markdown",
   "metadata": {}
  },
  {
   "cell_type": "code",
   "execution_count": 7,
   "metadata": {},
   "outputs": [],
   "source": [
    "df = pd.read_pickle(\"accidents.pkl.gz\")\n",
    "df = df[df[\"p11\"] != 4]\n",
    "df = df[df[\"p11\"] != 5]\n",
    "df.loc[(df.p11 < 7, \"p11\")] = False\n",
    "df.loc[(df.p11 > 6, \"p11\")] = True\n",
    "df[\"injury\"] = (df[\"p13a\"] + df[\"p13b\"])\n",
    "df.loc[(df.injury == 0, \"injury\")] = False\n",
    "df.loc[(df.injury > 0, \"injury\")] = True"
   ]
  },
  {
   "source": [
    "### Vytvoření Cross Table\n",
    "Vytvoříme tabulku podle které jednoduše vidíme, v kolika případech bylo těžké zranění a v kolika případech za to mohl alkohol."
   ],
   "cell_type": "markdown",
   "metadata": {}
  },
  {
   "cell_type": "code",
   "execution_count": 8,
   "metadata": {},
   "outputs": [
    {
     "output_type": "stream",
     "name": "stdout",
     "text": [
      "alcohol       False  True \nhard_injury               \nFalse        457528  16492\nTrue          10777    886\n"
     ]
    }
   ],
   "source": [
    "table = pd.crosstab(df.injury, df.p11, rownames=[\"hard_injury\"], colnames=[\"alcohol\"])\n",
    "print(table)"
   ]
  },
  {
   "source": [
    "### Výpočet samotného Chi-square testu\n",
    "Provedeme chi-square test. Poté si vypočteme kritickou hodnotu a tu srovnáme s parametrem dof (degrees of freedom)."
   ],
   "cell_type": "markdown",
   "metadata": {}
  },
  {
   "cell_type": "code",
   "execution_count": 9,
   "metadata": {},
   "outputs": [
    {
     "output_type": "stream",
     "name": "stdout",
     "text": [
      "p-value is: 2.0971505700338304e-123\n\nByla zamítnuta nulová hypotéza (H0)\n"
     ]
    }
   ],
   "source": [
    "stat, p, dof, expected = chi2_contingency(table)\n",
    "print(\"p-value is: \" + str(p) + \"\\n\")\n",
    "prob = 0.95\n",
    "critical = chi2.ppf(prob, dof)\n",
    "if abs(stat) >= critical:\n",
    "\tprint('Byla zamítnuta nulová hypotéza (H0)')\n",
    "else:\n",
    "\tprint('Nepodařilo se zamítnout nulovou hypotézu (H0)')"
   ]
  },
  {
   "source": [
    "### Výsledek\n",
    "- Byla zamítnuta nulová hypotéza (H0), z toho vyplívá, že byla potvrzena naše hypotéza.\n",
    "- Také bychom mohli porovnat p-value s požadovanou hladinou významosti, což je 0.05. Z výsledku vidíme že p-value je mnohem menší a tedy bychom nulovou hypotézu mohli vyvrátit i timto testem. "
   ],
   "cell_type": "markdown",
   "metadata": {}
  }
 ]
}